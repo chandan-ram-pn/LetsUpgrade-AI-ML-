{
 "cells": [
  {
   "cell_type": "code",
   "execution_count": 3,
   "metadata": {},
   "outputs": [
    {
     "name": "stdout",
     "output_type": "stream",
     "text": [
      "2+3j\n",
      "2+3j\n"
     ]
    },
    {
     "data": {
      "text/plain": [
       "(4+6j)"
      ]
     },
     "execution_count": 3,
     "metadata": {},
     "output_type": "execute_result"
    }
   ],
   "source": [
    "# Write a program to subtract two complex numbers in Python.\n",
    "x=complex(input())\n",
    "y=complex(input())\n",
    "print(x+y)"
   ]
  },
  {
   "cell_type": "code",
   "execution_count": 4,
   "metadata": {},
   "outputs": [
    {
     "name": "stdout",
     "output_type": "stream",
     "text": [
      "81\n",
      "3.0\n"
     ]
    }
   ],
   "source": [
    "# Write a program to find the fourth root of a number.\n",
    "x=int(input())\n",
    "y=pow(x,0.25)\n",
    "print(y)"
   ]
  },
  {
   "cell_type": "code",
   "execution_count": 7,
   "metadata": {},
   "outputs": [
    {
     "name": "stdout",
     "output_type": "stream",
     "text": [
      "5 6\n",
      "6 5\n"
     ]
    }
   ],
   "source": [
    "# Write a program to swap two numbers in Python with the help of a temporary variable.\n",
    "a,b=map(int, input().split())\n",
    "temp=a\n",
    "a=b\n",
    "b=temp\n",
    "print(a,b)"
   ]
  },
  {
   "cell_type": "code",
   "execution_count": 8,
   "metadata": {},
   "outputs": [
    {
     "name": "stdout",
     "output_type": "stream",
     "text": [
      "5 6\n",
      "6 5\n"
     ]
    }
   ],
   "source": [
    "# Write a program to swap two numbers in Python without using a temporary variable.\n",
    "a,b=map(int, input().split())\n",
    "a,b=b,a\n",
    "print(a,b)\n"
   ]
  },
  {
   "cell_type": "code",
   "execution_count": 15,
   "metadata": {},
   "outputs": [
    {
     "name": "stdout",
     "output_type": "stream",
     "text": [
      "enter the temprature in fahrenheit-40\n",
      "-40.0\n",
      "233.14999999999998\n"
     ]
    }
   ],
   "source": [
    "# Write a program to convert Fahrenheit to kelvin and celsius both.\n",
    "x=int(input('enter the temprature in fahrenheit'))\n",
    "y=(x-32)*(5/9)\n",
    "z=y+273.15\n",
    "print(y)\n",
    "print(z)"
   ]
  },
  {
   "cell_type": "code",
   "execution_count": 17,
   "metadata": {},
   "outputs": [
    {
     "name": "stdout",
     "output_type": "stream",
     "text": [
      "<class 'int'>\n",
      "<class 'float'>\n",
      "<class 'str'>\n",
      "<class 'bool'>\n",
      "<class 'complex'>\n",
      "<class 'tuple'>\n",
      "<class 'list'>\n",
      "<class 'dict'>\n"
     ]
    }
   ],
   "source": [
    " '''Write a program to demonstrate all the available data types in Python. Hint: Use type() function.'''\n",
    "x=10\n",
    "print(type(x))\n",
    "\n",
    "x=5.025\n",
    "print(type(x))\n",
    "\n",
    "x='chandan'\n",
    "print(type(x))\n",
    "\n",
    "x=True\n",
    "print(type(x))\n",
    "\n",
    "x=5+10j\n",
    "print(type(x))\n",
    "\n",
    "x=(2,3)\n",
    "print(type(x))\n",
    "\n",
    "x=[5,6]\n",
    "print(type(x))\n",
    "\n",
    "x={2:'key',5:'door'}\n",
    "print(type(x))"
   ]
  },
  {
   "cell_type": "code",
   "execution_count": null,
   "metadata": {},
   "outputs": [],
   "source": [
    "'''Create a Markdown cell in Jupyter and list the steps discussed in the session by Dr. Darshan\n",
    "Ingle sir to create a Github profile and upload the Githubs Assignment link.'''\n",
    "# 1.open git hub \n",
    "# 2.select the sign in option if there a github account, else \n",
    "# 3.so for creating a new account, select sign up option\n",
    "# 4.now, enter the username which we want \n",
    "# 5.enter the valid email to sign in \n",
    "# 6.a conformation mail will be sent to the entered mail id\n",
    "# 7.click on the conformation mail from the registerd mail id \n",
    "# 8.you will be redirected to the github website \n",
    "# 9.now we have to enter the preferences of language, reason for creating github account, and so on (we can skip this as it is optional step)\n",
    "# 10.now create a new repository \n",
    "# 11.make the repository as public (if it is personal it can be mail private which is available only in paid versions)\n",
    "# 12.now upload the assignments in a day wise manner\n"
   ]
  }
 ],
 "metadata": {
  "kernelspec": {
   "display_name": "Python 3",
   "language": "python",
   "name": "python3"
  },
  "language_info": {
   "codemirror_mode": {
    "name": "ipython",
    "version": 3
   },
   "file_extension": ".py",
   "mimetype": "text/x-python",
   "name": "python",
   "nbconvert_exporter": "python",
   "pygments_lexer": "ipython3",
   "version": "3.8.3"
  }
 },
 "nbformat": 4,
 "nbformat_minor": 4
}
