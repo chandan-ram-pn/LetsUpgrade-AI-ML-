{
 "cells": [
  {
   "cell_type": "code",
   "execution_count": 5,
   "metadata": {},
   "outputs": [
    {
     "name": "stdout",
     "output_type": "stream",
     "text": [
      "2+2j\n",
      "5+5j\n",
      "(7+7j)\n",
      "(-3-3j)\n",
      "20j\n",
      "(0.4+0j)\n"
     ]
    }
   ],
   "source": [
    "'''Research on whether addition, subtraction, multiplication, division, floor division, and modulo operations\n",
    "be performed on complex numbers. Based on your study, implement a Python program to demonstrate\n",
    "these operations.'''\n",
    "a=complex(input())\n",
    "b=complex(input())\n",
    "print(a+b)\n",
    "print(a-b)\n",
    "print(a*b)\n",
    "print(a/b)"
   ]
  },
  {
   "cell_type": "code",
   "execution_count": 12,
   "metadata": {},
   "outputs": [
    {
     "name": "stdout",
     "output_type": "stream",
     "text": [
      "0 2 4 6 8 10 12 14 16 18 20 22 24 26 28 30 32 34 36 38 40 42 44 46 48 "
     ]
    }
   ],
   "source": [
    "''' Research on range() functions and its parameters. Create a markdown cell and write in your own words\n",
    "(no copy-paste from google please) what you understand about it. Implement a small program of your\n",
    "choice on the same.'''\n",
    "\n",
    "range function is used to iterate through the values in the requried fashion the basic syntax for the range function o\n",
    "range(start),where start is the value which we have to start from and this goes to infinite value.\n",
    "The normally used syntax is range(start,stop) here the start value is taken and then incremented/decremented to the value \n",
    "and will give the desired result. The function take values from start to end-1, if the function is given as range(0,6)\n",
    "the function iters from 0 to 5 and not 6.\n",
    "The other commonly used syntax is range(start,stop,step),\n",
    "suppose if we have to print the list of even number starting from two we havee to increment the value by 2 until we reach the \n",
    "end value so we can use get the output.This can also be used to decrement the value by assigning negitive value.\n"
   ]
  },
  {
   "cell_type": "code",
   "execution_count": 13,
   "metadata": {},
   "outputs": [
    {
     "name": "stdout",
     "output_type": "stream",
     "text": [
      "0 2 4 6 8 10 12 14 16 18 20 22 24 26 28 30 32 34 36 38 40 42 44 46 48 "
     ]
    }
   ],
   "source": [
    "x=50\n",
    "for i in range(0,x,2):\n",
    "    print(i,end=' ')\n",
    "    \n",
    " # this program prints the value from 0 to 48 excluding the value 50 as the function counts 50 values as from 0 to 49"
   ]
  },
  {
   "cell_type": "code",
   "execution_count": 18,
   "metadata": {},
   "outputs": [
    {
     "name": "stdout",
     "output_type": "stream",
     "text": [
      "1000\n",
      "25\n",
      "40.0\n"
     ]
    }
   ],
   "source": [
    "'''Consider two numbers. Perform their subtraction and if the result of subtraction is greater than 25, print\n",
    "their multiplication result else print their division result.'''\n",
    "a=int(input())\n",
    "b=int(input())\n",
    "\n",
    "if a-b <25:\n",
    "    print(a*b)\n",
    "else:\n",
    "    print(a/b)"
   ]
  },
  {
   "cell_type": "code",
   "execution_count": 29,
   "metadata": {},
   "outputs": [
    {
     "name": "stdout",
     "output_type": "stream",
     "text": [
      "2 square of the number minus 2   2 square of that number minus 2\n",
      "4 square of the number minus 2   14 square of that number minus 2\n",
      "6 square of the number minus 2   34 square of that number minus 2\n",
      "8 square of the number minus 2   62 square of that number minus 2\n",
      "0 square of the number minus 2   -2 square of that number minus 2\n"
     ]
    }
   ],
   "source": [
    "'''Consider a list of 10 elements of integer values. If the number in the list is divisible by 2, print the result as\n",
    "\"square of that number minus 2\".'''\n",
    "x=[2,3,4,5,6,7,8,9,0,1]\n",
    "for i in x:\n",
    "    if i%2==0:\n",
    "        print(i,\"square of the number minus 2\" ,end='   ')\n",
    "        print((i**2)-2,\"square of that number minus 2\")\n",
    "    \n",
    "    \n"
   ]
  },
  {
   "cell_type": "code",
   "execution_count": 39,
   "metadata": {},
   "outputs": [
    {
     "name": "stdout",
     "output_type": "stream",
     "text": [
      "25\n",
      "36\n",
      "58\n",
      "15\n",
      "85\n",
      "5589\n",
      "85\n",
      "78\n"
     ]
    }
   ],
   "source": [
    "'''Consider a list of 10 elements. Print all the elements in the list which are greater than 7 when that number\n",
    "is divided 2.'''\n",
    "x=[25,2,36,58,15,85,5589,85,78,11]\n",
    "for i in x:\n",
    "    if (i/2)>7:\n",
    "        print(i)"
   ]
  },
  {
   "cell_type": "code",
   "execution_count": null,
   "metadata": {},
   "outputs": [],
   "source": []
  }
 ],
 "metadata": {
  "kernelspec": {
   "display_name": "Python 3",
   "language": "python",
   "name": "python3"
  },
  "language_info": {
   "codemirror_mode": {
    "name": "ipython",
    "version": 3
   },
   "file_extension": ".py",
   "mimetype": "text/x-python",
   "name": "python",
   "nbconvert_exporter": "python",
   "pygments_lexer": "ipython3",
   "version": "3.8.3"
  }
 },
 "nbformat": 4,
 "nbformat_minor": 4
}
