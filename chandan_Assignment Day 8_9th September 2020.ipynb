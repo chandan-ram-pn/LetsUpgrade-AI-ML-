{
 "cells": [
  {
   "cell_type": "markdown",
   "metadata": {},
   "source": [
    "##### map functions"
   ]
  },
  {
   "cell_type": "code",
   "execution_count": 25,
   "metadata": {},
   "outputs": [
    {
     "name": "stdout",
     "output_type": "stream",
     "text": [
      "1 2 3 4 5\n",
      "11 14 19 26 35 "
     ]
    }
   ],
   "source": [
    "# map(function, iterables)\n",
    "def sqr(a):\n",
    "    return a*a+10\n",
    "x=map(int, input().split())\n",
    "for i in x:\n",
    "    t=sqr(i)\n",
    "    print(t, end=' ')"
   ]
  },
  {
   "cell_type": "code",
   "execution_count": 25,
   "metadata": {},
   "outputs": [
    {
     "name": "stdout",
     "output_type": "stream",
     "text": [
      "<map object at 0x0000023D90318C70>\n",
      "[5, 7, 9, 11, 13]\n"
     ]
    }
   ],
   "source": [
    "def sums(a,b):\n",
    "    return a+b\n",
    "x=map(sums,[1,2,3,4,5],[4,5,6,7,8,9])\n",
    "print(x)\n",
    "print(list(x))"
   ]
  },
  {
   "cell_type": "code",
   "execution_count": 29,
   "metadata": {},
   "outputs": [
    {
     "name": "stdout",
     "output_type": "stream",
     "text": [
      "5 5 \n",
      "[0, 4, 16, 36, 64]\n"
     ]
    }
   ],
   "source": [
    "def anos(a,b):\n",
    "    return (a+b)**2\n",
    "n,m=map(int,input().split())\n",
    "print(list(map(anos,[i for i in range(n)],[j for j in range(m)])))"
   ]
  },
  {
   "cell_type": "markdown",
   "metadata": {},
   "source": [
    "##### lambda function"
   ]
  },
  {
   "cell_type": "code",
   "execution_count": 37,
   "metadata": {},
   "outputs": [
    {
     "name": "stdout",
     "output_type": "stream",
     "text": [
      "36\n",
      "<function dfg.<locals>.<lambda> at 0x0000023D903F8160>\n"
     ]
    }
   ],
   "source": [
    "def dfg(x):\n",
    "    return lambda y: x*y\n",
    "t = dfg(4)\n",
    "print(t(9))\n",
    "print(t)\n"
   ]
  },
  {
   "cell_type": "code",
   "execution_count": 8,
   "metadata": {},
   "outputs": [
    {
     "name": "stdout",
     "output_type": "stream",
     "text": [
      "15\n"
     ]
    }
   ],
   "source": [
    "def abc(x):\n",
    "    return lambda y: x+y\n",
    "\n",
    "# for i in range(5):\n",
    "    \n",
    "t=abc(10)\n",
    "print(t(5))"
   ]
  },
  {
   "cell_type": "code",
   "execution_count": 15,
   "metadata": {},
   "outputs": [
    {
     "name": "stdout",
     "output_type": "stream",
     "text": [
      "[1, 4, 9, 16]\n"
     ]
    }
   ],
   "source": [
    "x = [1,2,3,4]\n",
    "x = map(lambda x: x**2,x)\n",
    "print(list(x))"
   ]
  },
  {
   "cell_type": "code",
   "execution_count": 17,
   "metadata": {},
   "outputs": [
    {
     "name": "stdout",
     "output_type": "stream",
     "text": [
      "<map object at 0x000001B45EAC7F40>\n",
      "the number is less than 5\n",
      "the number is less than 5\n",
      "the number is less than 5\n",
      "the number is less than 5\n",
      "the number is less than 5\n",
      "the number is less than 5\n",
      "the number is less than 5\n",
      "the number is less than 5\n",
      "the number is less than 5\n",
      "the number is greater than 5\n",
      "the number is greater than 5\n",
      "the number is greater than 5\n",
      "the number is greater than 5\n",
      "the number is greater than 5\n",
      "the number is greater than 5\n",
      "the number is less than 5\n",
      "the number is less than 5\n",
      "the number is less than 5\n",
      "the number is less than 5\n",
      "the number is less than 5\n",
      "[5, 4, 6, 3, 2]\n"
     ]
    }
   ],
   "source": [
    "def ann(a):\n",
    "    for i in range(a):\n",
    "        if a>5:\n",
    "            print('the number is greater than 5')\n",
    "        else:\n",
    "            print('the number is less than 5')\n",
    "    return a\n",
    "a=map(ann,[5,4,6,3,2])\n",
    "print(a)\n",
    "print(list(a))'''prints the number*sentance '''"
   ]
  },
  {
   "cell_type": "code",
   "execution_count": 21,
   "metadata": {},
   "outputs": [
    {
     "name": "stdout",
     "output_type": "stream",
     "text": [
      "the world is !@#$%^&\n",
      "theworldis\n"
     ]
    }
   ],
   "source": [
    "def jkf (a):\n",
    "    x=''.join(filter(str.isalnum,a))\n",
    "    x.lower()\n",
    "    return x\n",
    "string=input()\n",
    "print(jkf(string))"
   ]
  },
  {
   "cell_type": "markdown",
   "metadata": {},
   "source": [
    "###### reduce function"
   ]
  },
  {
   "cell_type": "code",
   "execution_count": 24,
   "metadata": {},
   "outputs": [
    {
     "name": "stdout",
     "output_type": "stream",
     "text": [
      "<filter object at 0x000001B45EAC7970>\n",
      "[5.0, 6.0, 7.0]\n",
      "{}\n"
     ]
    }
   ],
   "source": [
    "x = filter(lambda x: x>4,  map(lambda x: x+3., [1,2,3,4]))\n",
    "print(x)\n",
    "print(list(x))\n",
    "print(dict(x))"
   ]
  },
  {
   "cell_type": "code",
   "execution_count": null,
   "metadata": {},
   "outputs": [],
   "source": []
  }
 ],
 "metadata": {
  "kernelspec": {
   "display_name": "Python 3",
   "language": "python",
   "name": "python3"
  },
  "language_info": {
   "codemirror_mode": {
    "name": "ipython",
    "version": 3
   },
   "file_extension": ".py",
   "mimetype": "text/x-python",
   "name": "python",
   "nbconvert_exporter": "python",
   "pygments_lexer": "ipython3",
   "version": "3.8.3"
  }
 },
 "nbformat": 4,
 "nbformat_minor": 4
}
