{
 "cells": [
  {
   "cell_type": "code",
   "execution_count": 100,
   "metadata": {},
   "outputs": [],
   "source": [
    "import numpy as np\n",
    "import pandas as pd"
   ]
  },
  {
   "cell_type": "code",
   "execution_count": 101,
   "metadata": {},
   "outputs": [
    {
     "name": "stdout",
     "output_type": "stream",
     "text": [
      "[False False False False False  True  True  True  True  True] \n",
      "\n",
      "[ True  True  True  True  True False False False False False] \n",
      "\n",
      "[False False False False False False False False False False] \n",
      "\n",
      "[False False False False False  True  True  True  True  True] \n",
      "\n",
      "[ True  True  True  True  True False False False False False] \n",
      "\n"
     ]
    }
   ],
   "source": [
    "# question 1\n",
    "a=np.array([1,2,3,4,5,6,7,8,9,10])\n",
    "b=np.array([10,9,8,7,6,5,4,3,2,1])\n",
    "print(np.greater(a,b),'\\n')\n",
    "print(np.less(a,b),'\\n')\n",
    "print(np.equal(a,b),'\\n')\n",
    "print(np.greater_equal(a,b),'\\n')\n",
    "print(np.less_equal(a,b),'\\n')\n"
   ]
  },
  {
   "cell_type": "code",
   "execution_count": 102,
   "metadata": {},
   "outputs": [
    {
     "name": "stdout",
     "output_type": "stream",
     "text": [
      "[0. 0. 0. 0. 0. 0. 0. 0. 0. 0.] \n",
      "\n",
      "[1. 1. 1. 1. 1. 1. 1. 1. 1. 1.] \n",
      "\n",
      "[['5' '5' '5' '5' '5' '5' '5' '5' '5' '5' '5']] \n",
      "\n",
      "[5. 5. 5. 5. 5. 5. 5. 5. 5. 5.] \n",
      "\n"
     ]
    }
   ],
   "source": [
    "# question 2 Write a NumPy program to create an array of 10 zeros,10 ones, 10 fives\n",
    "\n",
    "print(np.zeros(10),'\\n')\n",
    "print(np.ones(10),'\\n')\n",
    "print(np.full((1,11),'5'),'\\n')\n",
    "print(np.ones(10)*5,'\\n')"
   ]
  },
  {
   "cell_type": "code",
   "execution_count": 103,
   "metadata": {},
   "outputs": [
    {
     "name": "stdout",
     "output_type": "stream",
     "text": [
      "45\n",
      "6\n",
      "15\n",
      "24\n"
     ]
    }
   ],
   "source": [
    "# Write a NumPy program to compute sum of all elements, sum of each column and sum of each row of a\n",
    "# given array\n",
    "\n",
    "x=np.array([[1,2,3],[4,5,6],[7,8,9]])\n",
    "print(np.sum(x))\n",
    "c=x.ndim\n",
    "for i in range(c+1):    #+1 as the dimensions start from one and end at n but the rangea function ends at n-1 \n",
    "    print(np.sum(x[i]))\n",
    "    "
   ]
  },
  {
   "cell_type": "code",
   "execution_count": 104,
   "metadata": {},
   "outputs": [
    {
     "name": "stdout",
     "output_type": "stream",
     "text": [
      "[11 11 11 11 11 11 11 11 11 11] \n",
      "\n",
      "[-9 -7 -5 -3 -1  1  3  5  7  9] \n",
      "\n",
      "[10 18 24 28 30 30 28 24 18 10] \n",
      "\n",
      "[ 0.1         0.22222222  0.375       0.57142857  0.83333333  1.2\n",
      "  1.75        2.66666667  4.5        10.        ] \n",
      "\n"
     ]
    }
   ],
   "source": [
    "# Write a NumPy program to add, subtract, multiply, divide arguments element-wise\n",
    "a=np.array([1,2,3,4,5,6,7,8,9,10])\n",
    "b=np.array([10,9,8,7,6,5,4,3,2,1])\n",
    "print(np.add(a,b),'\\n')\n",
    "print(np.subtract(a,b),'\\n')\n",
    "print(np.multiply(a,b),'\\n')\n",
    "print(np.divide(a,b),'\\n')\n"
   ]
  },
  {
   "cell_type": "code",
   "execution_count": 105,
   "metadata": {},
   "outputs": [
    {
     "name": "stdout",
     "output_type": "stream",
     "text": [
      "[ 1.         -0.75968791  0.15425145  0.52532199 -0.95241298  0.92175127\n",
      " -0.44807362 -0.24095905  0.81418097 -0.99608784  0.69925081 -0.06633694\n",
      " -0.59846007] \n",
      "\n",
      "[ 0.          0.65028784 -0.98803162  0.85090352 -0.30481062 -0.38778164\n",
      "  0.89399666 -0.97053528  0.58061118  0.08836869 -0.71487643  0.99779728\n",
      " -0.80115264] \n",
      "\n",
      "[  0.          -0.8559934   -6.4053312    1.61977519   0.32004039\n",
      "  -0.42070095  -1.99520041   4.02780176   0.71312301  -0.08871576\n",
      "  -1.02234624 -15.04135305   1.33869021] \n",
      "\n"
     ]
    }
   ],
   "source": [
    "# Write a NumPy program to compute the trigonometric sine, cosine and tangent array of angles given in degree.\n",
    "x=[0,15,30,45,60,75,90,105,120,135,150,165,180]\n",
    "print(np.cos(x),'\\n')\n",
    "print(np.sin(x),'\\n')\n",
    "print(np.tan(x),'\\n')"
   ]
  },
  {
   "cell_type": "code",
   "execution_count": 106,
   "metadata": {},
   "outputs": [
    {
     "name": "stdout",
     "output_type": "stream",
     "text": [
      "         name score1 score2\n",
      "1    abhishek     70     75\n",
      "2       akash     78     88\n",
      "3      allwyn     64     64\n",
      "4      ankith     80     80\n",
      "5     chandan     88     95\n",
      "6     chethan     79     83\n",
      "7     darshan     89     89\n",
      "8       gagan     60     60\n",
      "9      gaurav     50     68\n",
      "10  guru dutt     95     95 \n",
      "\n",
      "\n"
     ]
    }
   ],
   "source": [
    "# Write a Pandas program to create and display a DataFrame from a specified dictionary data which has the index labels\n",
    "import pandas as pd\n",
    "import numpy as np\n",
    "\n",
    "avg_data  = {'name':['abhishek','akash','allwyn','ankith','chandan','chethan','darshan','gagan','gaurav','guru dutt']\n",
    "             ,'score1':['70','78','64','80','88','79','89','60','50','95'],'score2':['75','88','64','80','95','83','89','60','68','95']}\n",
    "roll_number = ['1', '2', '3', '4', '5', '6', '7', '8', '9', '10']\n",
    "\n",
    "final = pd.DataFrame(avg_data , index=roll_number)\n",
    "print(final,'\\n\\n')\n",
    "# print(final[['name','score2']])"
   ]
  },
  {
   "cell_type": "code",
   "execution_count": 107,
   "metadata": {},
   "outputs": [
    {
     "name": "stdout",
     "output_type": "stream",
     "text": [
      "         name score2\n",
      "1    abhishek     75\n",
      "2       akash     88\n",
      "3      allwyn     64\n",
      "4      ankith     80\n",
      "5     chandan     95\n",
      "6     chethan     83\n",
      "7     darshan     89\n",
      "8       gagan     60\n",
      "9      gaurav     68\n",
      "10  guru dutt     95\n"
     ]
    }
   ],
   "source": [
    "# Write a Pandas program to select the 'name' and 'score' columns from the following DataFrame.\n",
    "avg_data  = {'name':['abhishek','akash','allwyn','ankith','chandan','chethan','darshan','gagan','gaurav','guru dutt']\n",
    "             ,'score1':['70','78','64','80','88','79','89','60','50','95'],'score2':['75','88','64','80','95','83','89','60','68','95']}\n",
    "roll_number = ['1', '2', '3', '4', '5', '6', '7', '8', '9', '10']\n",
    "\n",
    "final = pd.DataFrame(avg_data , index=roll_number)\n",
    "# print(final,'\\n\\n')\n",
    "print(final[['name','score2']])"
   ]
  },
  {
   "cell_type": "code",
   "execution_count": 108,
   "metadata": {},
   "outputs": [
    {
     "name": "stdout",
     "output_type": "stream",
     "text": [
      "           name score1 score2\n",
      "0      iron man     70     75\n",
      "1        batman     78     88\n",
      "2          hulk     64     64\n",
      "3         flash     80     85\n",
      "4       aquaman    100     95\n",
      "5     daredevil     58     83\n",
      "6   cap.america     89     89\n",
      "7      superman     22     60\n",
      "8          thor     50     68\n",
      "9  green lanten     95     95\n",
      "0      abhishek     70     75\n",
      "1         akash     78     88\n",
      "2        allwyn     64     64\n",
      "3        ankith     80     80\n",
      "4       chandan     88     95\n",
      "5       chethan     79     83\n",
      "6       darshan     89     89\n",
      "7         gagan     60     60\n",
      "8        gaurav     50     68\n",
      "9     guru dutt     95     95\n"
     ]
    }
   ],
   "source": [
    "# Write a Pandas program to join the two given dataframes along rows and assign all data.\n",
    "import pandas as pd\n",
    "\n",
    "avg_data1  = pd.DataFrame({'name':['iron man','batman','hulk','flash','aquaman','daredevil','cap.america','superman','thor','green lanten']\n",
    "             ,'score1':['70','78','64','80','100','58','89','22','50','95'],'score2':['75','88','64','85','95','83','89','60','68','95']})\n",
    "# roll_number1 = ['10', '20', '30', '40', '50', '60', '70', '80', '90', '100']\n",
    "\n",
    "avg_data2  =pd.DataFrame ({'name':['abhishek','akash','allwyn','ankith','chandan','chethan','darshan','gagan','gaurav','guru dutt']\n",
    "             ,'score1':['70','78','64','80','88','79','89','60','50','95'],'score2':['75','88','64','80','95','83','89','60','68','95']})\n",
    "# roll_number2 = ['1', '2', '3', '4', '5', '6', '7', '8', '9', '10']\n",
    "\n",
    "final = pd.concat([avg_data1,avg_data2])\n",
    "# print(final,'\\n\\n')\n",
    "print(final)"
   ]
  },
  {
   "cell_type": "code",
   "execution_count": 109,
   "metadata": {},
   "outputs": [
    {
     "name": "stdout",
     "output_type": "stream",
     "text": [
      "data frame\n",
      "    serial_number  total_amount purchase_date  customer_number  salesman_id\n",
      "0             1.0       188.500    15-02-1999             1000       2001.0\n",
      "1             NaN       128.620    26-01-2015             1001       2002.0\n",
      "2             3.0        98.250           NaN             1002       2003.0\n",
      "3             4.0       510.600      1-1-2020             1003          NaN\n",
      "4             NaN       151.150    20-02-1990             1004       2005.0\n",
      "5             6.0      2500.000    21-09-2025             1005       2006.0\n",
      "6             NaN       781.250    10-05-1988             1006       2007.0\n",
      "7             8.0       541.215    25-05-1698             1007          NaN\n",
      "8             9.0       543.252    15-12-2015             1008       2008.0\n",
      "9            10.0        85.250    01-01-2000             1009       2009.0\n",
      "10            NaN        49.290    17-02-1999             1010       2010.0\n",
      "11           11.0        69.690    05-05-2000             1011          NaN\n",
      "\n",
      " missing values from the data frame\n",
      "    serial_number  total_amount  purchase_date  customer_number  salesman_id\n",
      "0           False         False          False            False        False\n",
      "1            True         False          False            False        False\n",
      "2           False         False           True            False        False\n",
      "3           False         False          False            False         True\n",
      "4            True         False          False            False        False\n",
      "5           False         False          False            False        False\n",
      "6            True         False          False            False        False\n",
      "7           False         False          False            False         True\n",
      "8           False         False          False            False        False\n",
      "9           False         False          False            False        False\n",
      "10           True         False          False            False        False\n",
      "11          False         False          False            False         True\n"
     ]
    }
   ],
   "source": [
    "# Write a Pandas program to detect missing values of a given DataFrame. Display True or False.\n",
    "\n",
    "pd.set_option('display.max_rows', None)\n",
    "#pd.set_option('display.max_columns', None)\n",
    "x= pd.DataFrame({\n",
    "'serial_number':[1,np.nan,3,4,np.nan,6,np.nan,8,9,10,np.nan,11],\n",
    "'total_amount':[188.5,128.62,98.25,510.6,151.15,2500,781.25,541.215,543.252,85.25,49.29,69.69],\n",
    "'purchase_date': ['15-02-1999','26-01-2015',np.nan,'1-1-2020','20-02-1990','21-09-2025','10-05-1988','25-05-1698','15-12-2015','01-01-2000','17-02-1999','05-05-2000'],\n",
    "'customer_number':[1000,1001,1002,1003,1004,1005,1006,1007,1008,1009,1010,1011],\n",
    "'salesman_id':[2001,2002,2003,np.nan,2005,2006,2007,np.nan,2008,2009,2010,np.nan]})\n",
    "print(\"data frame\")\n",
    "print(x)\n",
    "print(\"\\n missing values from the data frame\")\n",
    "print(x.isna())\n",
    "\n"
   ]
  },
  {
   "cell_type": "code",
   "execution_count": 110,
   "metadata": {},
   "outputs": [
    {
     "name": "stdout",
     "output_type": "stream",
     "text": [
      "\n",
      "\n",
      "0     3.000000+6.000000j\n",
      "1     2.000000+0.000000j\n",
      "2     3.000000+0.000000j\n",
      "3     4.000000+0.000000j\n",
      "4     5.000000+0.000000j\n",
      "5     6.000000+0.000000j\n",
      "6     7.000000+0.000000j\n",
      "7     8.000000+0.000000j\n",
      "8     9.000000+0.000000j\n",
      "9     1.020000+0.000000j\n",
      "10    2.020000+0.000000j\n",
      "11    3.020000+0.000000j\n",
      "dtype: complex128 \n",
      "\n",
      "[(3+6j), (2+0j), (3+0j), (4+0j), (5+0j), (6+0j), (7+0j), (8+0j), (9+0j), (1.02+0j), (2.02+0j), (3.02+0j)] \n",
      "\n",
      "<class 'list'>\n"
     ]
    }
   ],
   "source": [
    "# Write a Pandas program to create and display a one-dimensional array-like object containing an array of data.\n",
    "x=pd.Series([3+6j,2,3,4,5,6,7,8,9,1.02,2.02,3.02])\n",
    "print('\\n')\n",
    "print(x,'\\n')\n",
    "print(list(x),'\\n')\n",
    "print(type(list(x)))"
   ]
  },
  {
   "cell_type": "code",
   "execution_count": null,
   "metadata": {},
   "outputs": [],
   "source": []
  }
 ],
 "metadata": {
  "kernelspec": {
   "display_name": "Python 3",
   "language": "python",
   "name": "python3"
  },
  "language_info": {
   "codemirror_mode": {
    "name": "ipython",
    "version": 3
   },
   "file_extension": ".py",
   "mimetype": "text/x-python",
   "name": "python",
   "nbconvert_exporter": "python",
   "pygments_lexer": "ipython3",
   "version": "3.8.3"
  }
 },
 "nbformat": 4,
 "nbformat_minor": 4
}
