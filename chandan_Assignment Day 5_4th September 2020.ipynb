{
 "cells": [
  {
   "cell_type": "code",
   "execution_count": 12,
   "metadata": {},
   "outputs": [
    {
     "name": "stdout",
     "output_type": "stream",
     "text": [
      "[3, 5, 7, 11, 13, 17, 19, 23, 29, 31, 37, 41, 43, 47, 53, 59, 61, 67, 71, 73]\n"
     ]
    }
   ],
   "source": [
    "'''Write a Python program to find the first 20 non-even prime natural numbers.'''\n",
    "x=[]\n",
    "for num in range(3,1000):\n",
    "   \n",
    "   if num > 1:\n",
    "        for i in range(2, num):\n",
    "            if  (num % i) == 0:\n",
    "                break \n",
    "        else:\n",
    "            x.append(num)\n",
    "            if len(x)>19:\n",
    "                break\n",
    "        \n",
    "        \n",
    "print(x)     \n",
    "            "
   ]
  },
  {
   "cell_type": "code",
   "execution_count": 42,
   "metadata": {
    "scrolled": true
   },
   "outputs": [
    {
     "name": "stdout",
     "output_type": "stream",
     "text": [
      "Chandan is an ai-ml batch 2 student and chandan is improving the skills  \n",
      "chandan is an ai-ml batch 2 student and chandan is improving the skills  \n",
      "CHANDAN IS AN AI-ML BATCH 2 STUDENT AND CHANDAN IS IMPROVING THE SKILLS  \n",
      "2\n",
      "20\n",
      "the greates fights are fought with THIS IN IN MIDDLE loved ones\n",
      "65\n",
      "False\n",
      "False\n",
      "False\n",
      "chandan is an AI-ML course 2 student and chandan is improving the skills  \n",
      "('chandan is an AI-ML batch 2 ', 'student', ' and chandan is improving the skills  ')\n",
      "chandan is an AI-ML batch 2 student and chandan is improving the skills\n",
      "['chandan', 'is', 'an', 'AI-ML', 'batch', '2', 'student', 'and', 'chandan', 'is', 'improving', 'the', 'skills']\n",
      "('', 'chandan', ' is an AI-ML batch 2 student and chandan is improving the skills  ')\n"
     ]
    }
   ],
   "source": [
    "'''Write a Python program to implement 15 functions of string.'''\n",
    "x='chandan is an AI-ML batch 2 student and chandan is improving the skills  ' #contains \" - \"\n",
    "z='THIS IN IN MIDDLE'\n",
    "print(x.capitalize())\n",
    "print(x.lower())\n",
    "print(x.upper())\n",
    "print(x.count(\"chandan\"))\n",
    "print(x.find('batch'))\n",
    "print(\"the greates fights are fought with {} loved ones\".format(z))\n",
    "print(x.index(\"skills\"))\n",
    "print(x.isalnum())\n",
    "print(x.isalpha())\n",
    "print(x.isnumeric())\n",
    "print(x.replace(\"batch\",\"course\"))\n",
    "print(x.rpartition('student'))\n",
    "print(x.rstrip())\n",
    "print(x.split())\n",
    "print(x.partition('chandan'))"
   ]
  },
  {
   "cell_type": "code",
   "execution_count": 16,
   "metadata": {},
   "outputs": [
    {
     "name": "stdout",
     "output_type": "stream",
     "text": [
      "malayalam\n",
      "to check the anagram malayalam\n",
      "its both a palindrome and an anagram\n"
     ]
    }
   ],
   "source": [
    "'''Write a Python program to check if the given string is a Palindrome or Anagram or None of them. Display\n",
    "the message accordingly to the user.'''\n",
    "x=input()\n",
    "y=x[::-1]\n",
    "z=input('to check the anagram ')\n",
    "if(z==y):\n",
    "    print('its both a palindrome and an anagram')\n",
    "elif x==y:\n",
    "    print(y)\n",
    "elif sorted(x)==sorted(z):\n",
    "    print(z)\n",
    "else:\n",
    "    print('none')\n",
    "\n",
    "    "
   ]
  },
  {
   "cell_type": "code",
   "execution_count": 29,
   "metadata": {},
   "outputs": [
    {
     "name": "stdout",
     "output_type": "stream",
     "text": [
      "Dr. Darshan Ingle @AIML Trainer\n",
      "drdarshaningleaimltrainer\n"
     ]
    }
   ],
   "source": [
    "'''Write a Python's user-defined function that removes all the additional characters from the string and\n",
    "convert it finally to lower case using built-in lower(). eg: If the string is \"Dr. Darshan Ingle @AIML Trainer\",\n",
    "then the output be \"drdarshaningleaimltrainer\".'''\n",
    "def user_name(name):\n",
    "    x=''.join(filter(str.isalnum, name)) \n",
    "    y=x.lower()\n",
    "    return y\n",
    "\n",
    "strings=input()\n",
    "print(user_name(strings))\n",
    "\n"
   ]
  },
  {
   "cell_type": "code",
   "execution_count": null,
   "metadata": {},
   "outputs": [],
   "source": []
  }
 ],
 "metadata": {
  "kernelspec": {
   "display_name": "Python 3",
   "language": "python",
   "name": "python3"
  },
  "language_info": {
   "codemirror_mode": {
    "name": "ipython",
    "version": 3
   },
   "file_extension": ".py",
   "mimetype": "text/x-python",
   "name": "python",
   "nbconvert_exporter": "python",
   "pygments_lexer": "ipython3",
   "version": "3.8.3"
  }
 },
 "nbformat": 4,
 "nbformat_minor": 4
}
