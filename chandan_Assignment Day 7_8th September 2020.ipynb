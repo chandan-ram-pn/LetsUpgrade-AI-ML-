{
 "cells": [
  {
   "cell_type": "code",
   "execution_count": 8,
   "metadata": {},
   "outputs": [
    {
     "data": {
      "text/plain": [
       "30"
      ]
     },
     "execution_count": 8,
     "metadata": {},
     "output_type": "execute_result"
    }
   ],
   "source": [
    "'''Write a program to copy the contents of one file to another using a for loop. (Don’t use built-in copy\n",
    "function)'''\n",
    "\n",
    "import os\n",
    "f=open('ti.txt','w')\n",
    "f.write('this is an assignment for aiml')\n"
   ]
  },
  {
   "cell_type": "code",
   "execution_count": 9,
   "metadata": {},
   "outputs": [],
   "source": [
    "with open(\"ti.txt\") as f:\n",
    "    with open(\"copy.txt\", \"w\") as f1:\n",
    "        for line in f:\n",
    "            f1.write(line)"
   ]
  },
  {
   "cell_type": "code",
   "execution_count": 21,
   "metadata": {},
   "outputs": [
    {
     "name": "stdout",
     "output_type": "stream",
     "text": [
      "1 chandan\n",
      "2 foxconn\n",
      "3 chocolate\n",
      "4 i am iron man\n",
      "5 wonder woman\n"
     ]
    }
   ],
   "source": [
    "'''Write a Python program to find maximum and minimum values in the dictionary. Do not use built-in min\n",
    "and max functions'''\n",
    "s=[]\n",
    "x={1:'chandan',3:'chocolate',2:'foxconn',5:'wonder woman',4:'i am iron man'}\n",
    "for a in sorted (x):\n",
    "    print(a, x[a])\n",
    "    \n",
    "    \n",
    "    "
   ]
  },
  {
   "cell_type": "code",
   "execution_count": null,
   "metadata": {},
   "outputs": [],
   "source": []
  }
 ],
 "metadata": {
  "kernelspec": {
   "display_name": "Python 3",
   "language": "python",
   "name": "python3"
  },
  "language_info": {
   "codemirror_mode": {
    "name": "ipython",
    "version": 3
   },
   "file_extension": ".py",
   "mimetype": "text/x-python",
   "name": "python",
   "nbconvert_exporter": "python",
   "pygments_lexer": "ipython3",
   "version": "3.8.3"
  }
 },
 "nbformat": 4,
 "nbformat_minor": 4
}
