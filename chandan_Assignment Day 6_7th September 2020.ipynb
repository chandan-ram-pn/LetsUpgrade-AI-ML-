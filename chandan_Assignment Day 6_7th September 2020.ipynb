{
 "cells": [
  {
   "cell_type": "code",
   "execution_count": 12,
   "metadata": {},
   "outputs": [
    {
     "name": "stdout",
     "output_type": "stream",
     "text": [
      "amazon\n"
     ]
    }
   ],
   "source": [
    "'''Assuming that we have some email addresses in the \"username@companyname.com\" format, please\n",
    "write a program to print the company name of a given email address. Both user names and company\n",
    "names are composed of letters only.\n",
    "Input Format:\n",
    "The first line of the input contains an email address.\n",
    "Output Format:\n",
    "Print the company name in a single line.\n",
    "Example;\n",
    "Input:\n",
    "john@google.com\n",
    "Output:\n",
    "google.'''\n",
    "\n",
    "s='abc@amazon.com'\n",
    "c=s.split(\"@\")\n",
    "d=c[1]\n",
    "e=d.split(\".\")\n",
    "f=e[0]\n",
    "print(f)"
   ]
  },
  {
   "cell_type": "code",
   "execution_count": 17,
   "metadata": {},
   "outputs": [
    {
     "name": "stdout",
     "output_type": "stream",
     "text": [
      "charter,horoscope,example,nest,prestige,riot,countryside,emotion,fashion,leg\n",
      "charter,countryside,emotion,example,fashion,horoscope,leg,nest,prestige,riot\n"
     ]
    }
   ],
   "source": [
    "'''Write a program that accepts a comma-separated sequence of words as input and prints the words in a\n",
    "comma-separated sequence after sorting them alphabetically.\n",
    "Input Format:\n",
    "The first line of input contains words separated by the comma.\n",
    "Output Format:\n",
    "Print the sorted words separated by the comma.\n",
    "Example:\n",
    "Input:\n",
    "without,hello,bag,world\n",
    "Output:\n",
    "bag,hello,without,world'''\n",
    "a=input()\n",
    "x=[i for i in a.split(',')]\n",
    "y=(','.join(sorted(list(x))))\n",
    "print(y)\n",
    "\n"
   ]
  },
  {
   "cell_type": "code",
   "execution_count": 34,
   "metadata": {
    "scrolled": true
   },
   "outputs": [
    {
     "name": "stdout",
     "output_type": "stream",
     "text": [
      "{'fashion', 'cheese', 'trends', 'hello', 'word'}\n",
      "{'fashion', 'cheese', 'trends', 'rice', 'hello', 'word', 'burger'}\n",
      "7\n",
      "{'fashion', 'cheese', 'trends', 'rice', 'hello', 'word'}\n",
      "{'fashion', 'trends', 'rice', 'hello', 'word'}\n",
      "fashion\n",
      "{'trends', 'rice', 'hello', 'word'}\n",
      "False\n",
      "{'space', 'water', 'trends', 'rice', 'hello', 'earth', 'word', 'fire', 'air'}\n"
     ]
    }
   ],
   "source": [
    "'''creating operations on sets'''\n",
    "x={'hello','word','fashion','trends'}\n",
    "x.add('cheese')\n",
    "print(x)\n",
    "x.update(['burger','rice'])\n",
    "print(x)\n",
    "print(len(x))\n",
    "x.remove('burger')\n",
    "print(x)\n",
    "x.discard('cheese')\n",
    "print(x)\n",
    "y=x.pop()\n",
    "print(y)\n",
    "print(x)\n",
    "z={'fire','water','air','space','earth'}\n",
    "print(x.issubset(z))\n",
    "print(x.union(z))"
   ]
  },
  {
   "cell_type": "code",
   "execution_count": null,
   "metadata": {
    "scrolled": true
   },
   "outputs": [],
   "source": []
  },
  {
   "cell_type": "code",
   "execution_count": 46,
   "metadata": {},
   "outputs": [
    {
     "name": "stdout",
     "output_type": "stream",
     "text": [
      "1 3 5 6 8 9\n",
      "2 4 7\n"
     ]
    }
   ],
   "source": [
    "'''Given a list of n-1 numbers ranging from 1 to n, your task is to find the missing number. There are no\n",
    "duplicates.\n",
    "Input Format:\n",
    "The first line contains n-1 numbers with each number separated by a space.\n",
    "Output Format:\n",
    "Print the missing number\n",
    "Example:\n",
    "Input:\n",
    "1 2 4 6 3 7 8\n",
    "Output:\n",
    "5\n",
    "Explanation:\n",
    "In the above list of numbers 5 is missing and hence 5 is the input'''\n",
    "\n",
    "nums = set([int(i) for i in input().split()])\n",
    "full = set([i for i in range(1, max(nums)+1)])\n",
    "print(*(nums ^ full))"
   ]
  },
  {
   "cell_type": "code",
   "execution_count": 51,
   "metadata": {},
   "outputs": [
    {
     "name": "stdout",
     "output_type": "stream",
     "text": [
      "1 1 1 1 2 5 2 1 8 5 6 4 1\n",
      "1 2 5 8 6 4\n"
     ]
    }
   ],
   "source": [
    "'''With a given list L, write a program to print this list L after removing all duplicate values with original order\n",
    "reserved.\n",
    "Example:\n",
    "If the input list is\n",
    "12 24 35 24 88 120 155 88 120 155\n",
    "Then the output should be\n",
    "12 24 35 88 120 155\n",
    "Explanation:\n",
    "Third, the seventh and ninth element of the list L has been removed because it was already present.\n",
    "Input Format:\n",
    "In one line take the elements of the list L with each element separated by a space.\n",
    "Output Format:\n",
    "Print the elements of the modified list in one line with each element separated by a space.\n",
    "Example:\n",
    "Input:\n",
    "12 24 35 24\n",
    "Output:\n",
    "12 24 35'''\n",
    "\n",
    "nums = [int(i) for i in input().split()]\n",
    "print(*sorted(set(nums), key = nums.index))"
   ]
  },
  {
   "cell_type": "code",
   "execution_count": null,
   "metadata": {},
   "outputs": [],
   "source": []
  }
 ],
 "metadata": {
  "kernelspec": {
   "display_name": "Python 3",
   "language": "python",
   "name": "python3"
  },
  "language_info": {
   "codemirror_mode": {
    "name": "ipython",
    "version": 3
   },
   "file_extension": ".py",
   "mimetype": "text/x-python",
   "name": "python",
   "nbconvert_exporter": "python",
   "pygments_lexer": "ipython3",
   "version": "3.8.3"
  }
 },
 "nbformat": 4,
 "nbformat_minor": 4
}
